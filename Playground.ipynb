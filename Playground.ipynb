{
 "cells": [
  {
   "cell_type": "code",
   "execution_count": 1,
   "id": "89aad58d",
   "metadata": {},
   "outputs": [],
   "source": [
    "using Rocket"
   ]
  },
  {
   "cell_type": "code",
   "execution_count": 2,
   "id": "ebf84082",
   "metadata": {},
   "outputs": [
    {
     "data": {
      "text/plain": [
       "RecentSubject(Int64, Subject{Int64, AsapScheduler, AsapScheduler})"
      ]
     },
     "execution_count": 2,
     "metadata": {},
     "output_type": "execute_result"
    }
   ],
   "source": [
    "s1 = RecentSubject(Int)\n",
    "s2 = RecentSubject(Int)"
   ]
  },
  {
   "cell_type": "code",
   "execution_count": 3,
   "id": "afef690c",
   "metadata": {},
   "outputs": [],
   "source": [
    "next!(s1, 1)\n",
    "next!(s2, 1)"
   ]
  },
  {
   "cell_type": "code",
   "execution_count": 7,
   "id": "d485878e",
   "metadata": {},
   "outputs": [
    {
     "ename": "LoadError",
     "evalue": "MethodError: no method matching getrecent(::ProxyObservable{Tuple{Int64, Int64}, Rocket.RefCountSource{Tuple{Int64, Int64}, ConnectableObservable{Tuple{Int64, Int64}, Rocket.RecentSubjectInstance{Tuple{Int64, Int64}, Subject{Tuple{Int64, Int64}, AsapScheduler, AsapScheduler}}, Rocket.CombineLatestObservable{Tuple{Int64, Int64}, Tuple{Rocket.RecentSubjectInstance{Int64, Subject{Int64, AsapScheduler, AsapScheduler}}, Rocket.RecentSubjectInstance{Int64, Subject{Int64, AsapScheduler, AsapScheduler}}}, PushEach}}}, Rocket.RefCountProxy})\n\u001b[0mClosest candidates are:\n\u001b[0m  getrecent(\u001b[91m::Rocket.RecentSubjectInstance\u001b[39m) at ~/.julia/dev/Rocket.jl/src/subjects/recent.jl:55\n\u001b[0m  getrecent(\u001b[91m::SingleObservable\u001b[39m) at ~/.julia/dev/Rocket.jl/src/observable/single.jl:22\n\u001b[0m  getrecent(\u001b[91m::Rocket.CombineLatestUpdatesObservable\u001b[39m) at ~/.julia/dev/Rocket.jl/src/observable/combined_updates.jl:96\n\u001b[0m  ...",
     "output_type": "error",
     "traceback": [
      "MethodError: no method matching getrecent(::ProxyObservable{Tuple{Int64, Int64}, Rocket.RefCountSource{Tuple{Int64, Int64}, ConnectableObservable{Tuple{Int64, Int64}, Rocket.RecentSubjectInstance{Tuple{Int64, Int64}, Subject{Tuple{Int64, Int64}, AsapScheduler, AsapScheduler}}, Rocket.CombineLatestObservable{Tuple{Int64, Int64}, Tuple{Rocket.RecentSubjectInstance{Int64, Subject{Int64, AsapScheduler, AsapScheduler}}, Rocket.RecentSubjectInstance{Int64, Subject{Int64, AsapScheduler, AsapScheduler}}}, PushEach}}}, Rocket.RefCountProxy})\n\u001b[0mClosest candidates are:\n\u001b[0m  getrecent(\u001b[91m::Rocket.RecentSubjectInstance\u001b[39m) at ~/.julia/dev/Rocket.jl/src/subjects/recent.jl:55\n\u001b[0m  getrecent(\u001b[91m::SingleObservable\u001b[39m) at ~/.julia/dev/Rocket.jl/src/observable/single.jl:22\n\u001b[0m  getrecent(\u001b[91m::Rocket.CombineLatestUpdatesObservable\u001b[39m) at ~/.julia/dev/Rocket.jl/src/observable/combined_updates.jl:96\n\u001b[0m  ...",
      "",
      "Stacktrace:",
      " [1] top-level scope",
      "   @ In[7]:1"
     ]
    }
   ],
   "source": [
    "Rocket.getrecent(combineLatest(s1, s2) |> share_recent())"
   ]
  },
  {
   "cell_type": "code",
   "execution_count": 9,
   "id": "cf1ca262",
   "metadata": {},
   "outputs": [
    {
     "name": "stdout",
     "output_type": "stream",
     "text": [
      "[LogActor] Data: [1, 1]\n",
      "[LogActor] Completed\n"
     ]
    },
    {
     "data": {
      "text/plain": [
       "CollectLatestSubscription()"
      ]
     },
     "execution_count": 9,
     "metadata": {},
     "output_type": "execute_result"
    }
   ],
   "source": [
    "subscribe!(collectLatest([ s1, s2 ]) |> take(1), logger())"
   ]
  },
  {
   "cell_type": "code",
   "execution_count": 14,
   "id": "85ee14f7",
   "metadata": {},
   "outputs": [
    {
     "data": {
      "text/latex": [
       "No documentation found.\n",
       "\n",
       "Binding \\texttt{Base.shift!} does not exist.\n",
       "\n"
      ],
      "text/markdown": [
       "No documentation found.\n",
       "\n",
       "Binding `Base.shift!` does not exist.\n"
      ],
      "text/plain": [
       "  No documentation found.\n",
       "\n",
       "  Binding \u001b[36mBase.shift!\u001b[39m does not exist."
      ]
     },
     "execution_count": 14,
     "metadata": {},
     "output_type": "execute_result"
    }
   ],
   "source": [
    "?Base.shift!"
   ]
  },
  {
   "cell_type": "code",
   "execution_count": null,
   "id": "dd826a81",
   "metadata": {},
   "outputs": [],
   "source": []
  }
 ],
 "metadata": {
  "kernelspec": {
   "display_name": "Julia 1.8.4",
   "language": "julia",
   "name": "julia-1.8"
  },
  "language_info": {
   "file_extension": ".jl",
   "mimetype": "application/julia",
   "name": "julia",
   "version": "1.8.4"
  }
 },
 "nbformat": 4,
 "nbformat_minor": 5
}
